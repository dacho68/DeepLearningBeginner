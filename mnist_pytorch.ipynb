{
 "cells": [
  {
   "cell_type": "code",
   "execution_count": 11,
   "metadata": {},
   "outputs": [
    {
     "data": {
      "text/plain": [
       "'\\nDataset\\nBuild a model\\nDefine loss_fn & optimizer\\nDefine trainer(model produces predition -> compute the loss (label - pred) -> backprop)\\nDefine test (on validation) -> training/validation/test\\nRun trainer and test\\n'"
      ]
     },
     "execution_count": 11,
     "metadata": {},
     "output_type": "execute_result"
    }
   ],
   "source": [
    "'''\n",
    "Dataset\n",
    "Build a model\n",
    "Define loss_fn & optimizer\n",
    "Define trainer(model produces predition -> compute the loss (label - pred) -> backprop)\n",
    "Define test (on validation) -> training/validation/test\n",
    "Run trainer and test\n",
    "'''"
   ]
  },
  {
   "cell_type": "code",
   "execution_count": 12,
   "metadata": {},
   "outputs": [],
   "source": [
    "import torch\n",
    "from torch.utils.data import DataLoader\n",
    "from torch.utils.data import TensorDataset\n",
    "from torchvision.datasets import MNIST\n",
    "from torchvision.transforms import ToTensor\n",
    "import matplotlib.pyplot as plt\n",
    "\n"
   ]
  },
  {
   "cell_type": "code",
   "execution_count": 13,
   "metadata": {},
   "outputs": [],
   "source": [
    "train_ds = MNIST(root='data', train = True, download=True, transform=ToTensor())\n",
    "valid_ds = MNIST(root='data', train = False, download=True, transform=ToTensor())"
   ]
  },
  {
   "cell_type": "code",
   "execution_count": 14,
   "metadata": {},
   "outputs": [
    {
     "name": "stdout",
     "output_type": "stream",
     "text": [
      "5\n"
     ]
    },
    {
     "data": {
      "text/plain": [
       "<matplotlib.image.AxesImage at 0x1494dc33890>"
      ]
     },
     "execution_count": 14,
     "metadata": {},
     "output_type": "execute_result"
    },
    {
     "data": {
      "image/png": "[encoded data removed]",
      "text/plain": [
       "<Figure size 640x480 with 1 Axes>"
      ]
     },
     "metadata": {},
     "output_type": "display_data"
    }
   ],
   "source": [
    "# Examine the data\n",
    "image, label = train_ds[0]\n",
    "print(label)\n",
    "plt.imshow(image.float().reshape((28,28)), cmap='gray')\n"
   ]
  },
  {
   "cell_type": "code",
   "execution_count": 15,
   "metadata": {},
   "outputs": [],
   "source": [
    "# create a dataloader\n",
    "# Makes it easy to iterate over batches\n",
    "# GPU acceleration -> num_workers = 4, pin_memory (pinned memory -> faster RAM to GPU transfer)\n",
    "bs = 64\n",
    "train_dl = DataLoader(train_ds, batch_size = bs , shuffle = True)\n",
    "valid_dl = DataLoader(valid_ds, batch_size = bs , shuffle = True)"
   ]
  },
  {
   "cell_type": "code",
   "execution_count": 28,
   "metadata": {},
   "outputs": [
    {
     "name": "stdout",
     "output_type": "stream",
     "text": [
      "7\n"
     ]
    },
    {
     "data": {
      "text/plain": [
       "<matplotlib.image.AxesImage at 0x1494dc2b890>"
      ]
     },
     "execution_count": 28,
     "metadata": {},
     "output_type": "execute_result"
    },
    {
     "data": {
      "image/png": "[encoded data removed]",
      "text/plain": [
       "<Figure size 640x480 with 1 Axes>"
      ]
     },
     "metadata": {},
     "output_type": "display_data"
    }
   ],
   "source": [
    "# Examine the data\n",
    "image, label = valid_ds[0]\n",
    "print(label)\n",
    "plt.imshow(image.float().reshape((28,28)), cmap='gray')"
   ]
  },
  {
   "cell_type": "code",
   "execution_count": 29,
   "metadata": {},
   "outputs": [],
   "source": [
    "from torch import nn\n",
    "\n",
    "#build a model\n",
    "class MNISTModel(nn.Module):\n",
    "    def __init__(self):\n",
    "        super().__init__()\n",
    "        self.lin = nn.Linear(784,10)\n",
    "        # self.lin2 = nn.Linear(64,32)\n",
    "        # self.lin3 = nn.Linear(32,10)\n",
    "\n",
    "\n",
    "    def forward (self, xb):\n",
    "        xb = xb.flatten(1,-1) # (bs,1,28,28) -> bs, 784\n",
    "        return self.lin(xb)"
   ]
  },
  {
   "cell_type": "code",
   "execution_count": 30,
   "metadata": {},
   "outputs": [
    {
     "name": "stdout",
     "output_type": "stream",
     "text": [
      "MNISTModel(\n",
      "  (lin): Linear(in_features=784, out_features=10, bias=True)\n",
      ")\n"
     ]
    }
   ],
   "source": [
    "#init model\n",
    "model = MNISTModel()\n",
    "print(model)\n"
   ]
  },
  {
   "cell_type": "code",
   "execution_count": 31,
   "metadata": {},
   "outputs": [],
   "source": [
    "from torch import optim\n",
    "\n",
    "lr = 0.5\n",
    "\n",
    "#define a loss func and optimizer\n",
    "loss_func = nn.CrossEntropyLoss()\n",
    "optimizer = optim.SGD(model.parameters(), lr=lr)\n",
    "\n",
    "def accuracy_func(pred, yb):\n",
    "    pred_class = torch.argmax(pred, dim=1)\n",
    "    return (pred_class == yb).float().mean()"
   ]
  },
  {
   "cell_type": "code",
   "execution_count": 32,
   "metadata": {},
   "outputs": [],
   "source": [
    "# Define a Trainer\n",
    "\n",
    "def train(dataloader, model, loss_func, optimizer):\n",
    "    for batch_idx, (xb, yb) in enumerate(dataloader):\n",
    "        # loss \n",
    "        pred = model(xb)\n",
    "        loss = loss_func(pred, yb)\n",
    "        \n",
    "        #backprop\n",
    "        loss.backward() # autograd\n",
    "        optimizer.step() # updates the parameters using the optimizer(SGD/Adam)\n",
    "        optimizer.zero_grad()\n",
    "        \n",
    "        #logging\n",
    "        if batch_idx % 100 == 0:\n",
    "            train_loss, train_accuracy = loss.item(),accuracy_func(pred, yb).item() * 100\n",
    "            print(f'Loss: {train_loss:6f} Accuracy: {train_accuracy:0.1f}%')\n",
    "\n",
    "\n"
   ]
  },
  {
   "cell_type": "code",
   "execution_count": 33,
   "metadata": {},
   "outputs": [],
   "source": [
    "# Define test -> not updating any parameters\n",
    "def test(dataloader, model, loss_func):\n",
    "    model.eval() # flag to make sure things like dropout works as expected in testing\n",
    "    with torch.no_grad():\n",
    "        for xb,yb in dataloader:\n",
    "            pred = model(xb)\n",
    "            loss = loss_func(pred, yb)\n",
    "            accuracy = accuracy_func(pred, yb)\n",
    "\n",
    "            # logging\n",
    "            test_loss, test_accuracy = loss.item(), accuracy.item() * 100\n",
    "\n",
    "    print(f'Test:\\n Loss: {test_loss:6f} Accuracy: {test_accuracy:0.1f}%')\n",
    "\n"
   ]
  },
  {
   "cell_type": "code",
   "execution_count": 34,
   "metadata": {},
   "outputs": [
    {
     "name": "stdout",
     "output_type": "stream",
     "text": [
      "\n",
      " Epoch 0 \n",
      "-----------\n",
      "Loss: 2.267995 Accuracy: 20.3%\n",
      "Loss: 0.508539 Accuracy: 79.7%\n",
      "Loss: 0.302501 Accuracy: 92.2%\n",
      "Loss: 0.468367 Accuracy: 87.5%\n",
      "Loss: 0.157952 Accuracy: 96.9%\n",
      "Loss: 0.475540 Accuracy: 85.9%\n",
      "Loss: 0.542118 Accuracy: 78.1%\n",
      "Loss: 0.372756 Accuracy: 89.1%\n",
      "Loss: 0.475810 Accuracy: 89.1%\n",
      "Loss: 0.385605 Accuracy: 87.5%\n",
      "Test:\n",
      " Loss: 0.175832 Accuracy: 87.5%\n",
      "\n",
      " Epoch 1 \n",
      "-----------\n",
      "Loss: 0.452135 Accuracy: 89.1%\n",
      "Loss: 0.344112 Accuracy: 87.5%\n",
      "Loss: 0.370039 Accuracy: 87.5%\n",
      "Loss: 0.572588 Accuracy: 90.6%\n",
      "Loss: 0.351567 Accuracy: 89.1%\n",
      "Loss: 0.226835 Accuracy: 93.8%\n",
      "Loss: 0.108987 Accuracy: 98.4%\n",
      "Loss: 0.505393 Accuracy: 89.1%\n",
      "Loss: 0.255202 Accuracy: 93.8%\n",
      "Loss: 0.188600 Accuracy: 92.2%\n",
      "Test:\n",
      " Loss: 0.163442 Accuracy: 93.8%\n",
      "Finished \n"
     ]
    }
   ],
   "source": [
    "#run\n",
    "epochs = 2\n",
    "for t in range(epochs):\n",
    "    print(f'\\n Epoch {t} \\n-----------')\n",
    "    train(train_dl, model, loss_func, optimizer)\n",
    "    test(valid_dl,model,loss_func)\n",
    "\n",
    "print(\"Finished \")"
   ]
  },
  {
   "cell_type": "code",
   "execution_count": null,
   "metadata": {},
   "outputs": [],
   "source": []
  }
 ],
 "metadata": {
  "kernelspec": {
   "display_name": "deep_learning",
   "language": "python",
   "name": "python3"
  },
  "language_info": {
   "codemirror_mode": {
    "name": "ipython",
    "version": 3
   },
   "file_extension": ".py",
   "mimetype": "text/x-python",
   "name": "python",
   "nbconvert_exporter": "python",
   "pygments_lexer": "ipython3",
   "version": "3.11.7"
  }
 },
 "nbformat": 4,
 "nbformat_minor": 2
}
